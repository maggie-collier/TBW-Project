{
 "cells": [
  {
   "cell_type": "code",
   "execution_count": null,
   "metadata": {},
   "outputs": [],
   "source": []
  },
  {
   "attachments": {},
   "cell_type": "markdown",
   "metadata": {},
   "source": [
    "# 50 Most Watched Movies of All Time\n",
    "Grease (1978)\n",
    "Back to the Future (1985)\n",
    "Dirty Dancing\t(1987)\n",
    "Home Alone (1990)\n",
    "Love Actually (2003)\n",
    "Titanic (1997)\n",
    "Indiana Jones and the Raiders of the Lost Ark (1981)\n",
    "Jurassic Park (1993)\n",
    "Mary Poppins (1964)\n",
    "Toy Story (1995)\n",
    "The Shawshank Redemption (1994)\n",
    "Bridget Jones's Diary (2001)\n",
    "Harry Potter and the Sorcerer's Stone (2001)\n",
    "The Wizard of Oz (1939)\n",
    "Forrest Gump (1994)\n",
    "Die Hard (1988)\n",
    "E.T. the Extra-Terrestrial (1982)\t7.9\t\n",
    "Pirates of the Caribbean: The Curse of the Black Pearl (2003)\n",
    "The Goonies (1985)\n",
    "Ghostbusters (1984)\n",
    "Jaws (1975)\n",
    "The Terminator (1984)\n",
    "Top Gun (1986)\n",
    "Star Wars: Episode IV - A New Hope (1977)\n",
    "The Lion King (1994)\n",
    "The Lord of the Rings: The Fellowship of the Ring (2001)\n",
    "Finding Nemo (2003)\n",
    "Elf (2003)\n",
    "The Silence of the Lambs (1991)\n",
    "Alien (1979)\n",
    "Monsters, Inc. (2001)\n",
    "The Matrix (1999)\n",
    "It's a Wonderful Life (1946)\n",
    "Avatar (2009)\n",
    "Gladiator (2000)\n",
    "Life of Brian (1979)\n",
    "Monty Python and the Holy Grail (1975)\n",
    "The Good, the Bad and the Ugly (1966)\n",
    "Edward Scissorhands (1990)\n",
    "Groundhog Day (1993)\n",
    "The Godfather (1972)\n",
    "Pulp Fiction (1994)\n",
    "Rocky (1976)\n",
    "The Dark Knight (2008)\n",
    "Singin' in the Rain (1952)\n",
    "Casablanca (1942)\n",
    "Mean Girls (2004)\n",
    "Psycho (1960)\n",
    "Romeo and Juliet (1968)\n",
    "Romeo + Juliet (1996)"
   ]
  }
 ],
 "metadata": {
  "language_info": {
   "name": "python"
  },
  "orig_nbformat": 4
 },
 "nbformat": 4,
 "nbformat_minor": 2
}
